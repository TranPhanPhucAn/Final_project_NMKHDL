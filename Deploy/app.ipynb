{
      "cells": [
            {
                  "cell_type": "code",
                  "execution_count": 1,
                  "id": "89548d08-bf38-432c-a99c-ffbb86926497",
                  "metadata": {},
                  "outputs": [],
                  "source": [
                        "import numpy as np\n",
                        "from flask import Flask, request, render_template\n",
                        "import pickle\n",
                        "import warnings\n",
                        "warnings.simplefilter('ignore')"
                  ]
            },
            {
                  "cell_type": "code",
                  "execution_count": 2,
                  "id": "eccc183d-f21b-48f7-8102-98defef0f477",
                  "metadata": {},
                  "outputs": [],
                  "source": [
                        "league = np.loadtxt('league.txt', dtype=str, delimiter=',')\n",
                        "nation = np.loadtxt('nation.txt', dtype=str, delimiter=',')\n",
                        "custom_order = ['GK', 'LWB', 'LB', 'CB', 'RB', 'RWB', 'CDM', 'CM', 'LM', 'RM', 'CAM', 'LW', 'RW', 'CF', 'ST']"
                  ]
            },
            {
                  "cell_type": "code",
                  "execution_count": null,
                  "id": "deda81de-e61d-4ed9-9441-03c670ea01b5",
                  "metadata": {},
                  "outputs": [
                        {
                              "name": "stdout",
                              "output_type": "stream",
                              "text": [
                                    " * Serving Flask app '__main__'\n",
                                    " * Debug mode: off\n"
                              ]
                        },
                        {
                              "name": "stderr",
                              "output_type": "stream",
                              "text": [
                                    "WARNING: This is a development server. Do not use it in a production deployment. Use a production WSGI server instead.\n",
                                    " * Running on http://127.0.0.1:5000\n",
                                    "Press CTRL+C to quit\n",
                                    "127.0.0.1 - - [31/Dec/2023 13:50:12] \"GET / HTTP/1.1\" 200 -\n"
                              ]
                        }
                  ],
                  "source": [
                        "#Create an app object using the Flask class. \n",
                        "app = Flask(__name__)\n",
                        "\n",
                        "#Load the trained model. (Pickle file)\n",
                        "model = pickle.load(open('model.pkl', 'rb'))\n",
                        "\n",
                        "#Define the route to be home. \n",
                        "#The decorator below links the relative route of the URL to the function it is decorating.\n",
                        "#Here, home function is with '/', our root directory. \n",
                        "#Running the app sends us to index.html.\n",
                        "#Note that render_template means it looks for the file in the templates folder. \n",
                        "\n",
                        "#use the route() decorator to tell Flask what URL should trigger our function.\n",
                        "@app.route('/')\n",
                        "def home():\n",
                        "    return render_template('index.html', league = league, nation = nation, position = custom_order)\n",
                        "\n",
                        "#You can use the methods argument of the route() decorator to handle different HTTP methods.\n",
                        "#GET: A GET message is send, and the server returns data\n",
                        "#POST: Used to send HTML form data to the server.\n",
                        "#Add Post method to the decorator to allow for form submission. \n",
                        "#Redirect to /predict page with the output\n",
                        "@app.route('/predict',methods=['POST'])\n",
                        "def predict():\n",
                        "    all_features = [str(x) for x in request.form.values()]\n",
                        "    number_features = all_features[:12]\n",
                        "    features = [float(x) for x in number_features]\n",
                        "    for i in league:\n",
                        "        if i == all_features[12]:\n",
                        "            features.append(1)\n",
                        "        else:\n",
                        "            features.append(0)\n",
                        "    for i in nation:\n",
                        "        if i == all_features[13]:\n",
                        "            features.append(1)\n",
                        "        else:\n",
                        "            features.append(0)\n",
                        "    for i in custom_order:\n",
                        "        if np.isin(i, all_features[14:]):\n",
                        "            features.append(1)\n",
                        "        else:\n",
                        "            features.append(0)\n",
                        "    features = [features]\n",
                        "    prediction = model.predict(features)  # features Must be in the form [[a, b]]\n",
                        "    output = round(prediction[0], 2)\n",
                        "    return render_template('index.html', prediction_text='Price is {}'.format(output))\n",
                        "\n",
                        "\n",
                        "#When the Python interpreter reads a source file, it first defines a few special variables. \n",
                        "#For now, we care about the __name__ variable.\n",
                        "#If we execute our code in the main program, like in our case here, it assigns\n",
                        "# __main__ as the name (__name__). \n",
                        "#So if we want to run our code right here, we can check if __name__ == __main__\n",
                        "#if so, execute it here. \n",
                        "#If we import this file (module) to another file then __name__ == app (which is the name of this python file).\n",
                        "\n",
                        "if __name__ == \"__main__\":\n",
                        "    app.run()"
                  ]
            }
      ],
      "metadata": {
            "kernelspec": {
                  "display_name": "Python 3 (ipykernel)",
                  "language": "python",
                  "name": "python3"
            },
            "language_info": {
                  "codemirror_mode": {
                        "name": "ipython",
                        "version": 3
                  },
                  "file_extension": ".py",
                  "mimetype": "text/x-python",
                  "name": "python",
                  "nbconvert_exporter": "python",
                  "pygments_lexer": "ipython3",
                  "version": "3.9.15"
            }
      },
      "nbformat": 4,
      "nbformat_minor": 5
}