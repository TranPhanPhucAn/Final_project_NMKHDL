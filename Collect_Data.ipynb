{
 "cells": [
  {
   "cell_type": "markdown",
   "id": "7121d070-e769-41bd-8d7d-ba194d2bbbd5",
   "metadata": {},
   "source": [
    "<h2>Introduction</h2>"
   ]
  },
  {
   "cell_type": "markdown",
   "id": "74c5a347-8214-41dc-9d8e-dba5392e2c2a",
   "metadata": {},
   "source": [
    "Nhóm ...\n",
    "\n",
    "Danh sách thành viên:\n",
    "\n",
    "Tên:\n",
    "\n",
    "MSSV: "
   ]
  },
  {
   "cell_type": "markdown",
   "id": "c81668aa-e0c0-407e-bba8-d41e605250c2",
   "metadata": {},
   "source": [
    "Giải thích đồ án"
   ]
  },
  {
   "cell_type": "markdown",
   "id": "02120dfd-4430-40d4-b25a-5b6eb6bfac0d",
   "metadata": {},
   "source": [
    "<h2>Import</h2>"
   ]
  },
  {
   "cell_type": "code",
   "execution_count": 1,
   "id": "cdbdde95-a7bd-4fec-a269-53af1207f8ec",
   "metadata": {},
   "outputs": [],
   "source": [
    "#Necessary Packages\n",
    "import time\n",
    "import re\n",
    "import requests\n",
    "import numpy as np\n",
    "import pandas as pd \n",
    "from bs4 import BeautifulSoup\n",
    "import csv"
   ]
  },
  {
   "cell_type": "markdown",
   "id": "fd590542-52ad-4623-ae9d-de5882161d77",
   "metadata": {},
   "source": [
    "<h2>Start crawling and save collected data</h2>"
   ]
  },
  {
   "cell_type": "code",
   "execution_count": 2,
   "id": "8cee3401-52a4-4d76-848b-d3065f8c228d",
   "metadata": {},
   "outputs": [],
   "source": [
    "url=\"https://www.fifaindex.com/players\"\n",
    "HEADERS = {\"User-Agent\": \"Mozilla/5.0 (iPad; CPU OS 12_2 like Mac OS X) AppleWebKit/605.1.15 (KHTML, like Gecko) Mobile/15E148\"}\n",
    "get_links=[]\n",
    "for i in range(1,100):\n",
    "    count=0\n",
    "    r=requests.get(url+f\"/?page={i}\",headers=HEADERS)\n",
    "    soup=BeautifulSoup(r.text,\"html.parser\")\n",
    "    link_players=soup.find_all(\"a\",attrs={\"class\":\"link-player\"})\n",
    "    for link in link_players:\n",
    "        if link:\n",
    "            href_value = link.get(\"href\")\n",
    "        if count==0:  \n",
    "            get_links.append(href_value)\n",
    "            count=1\n",
    "        else:\n",
    "            count=0\n",
    "with open(\"get_links.txt\", \"w\") as file:\n",
    "    for item in get_links:\n",
    "        file.write(\"%s\\n\" % item)"
   ]
  }
 ],
 "metadata": {
  "kernelspec": {
   "display_name": "Python 3 (ipykernel)",
   "language": "python",
   "name": "python3"
  },
  "language_info": {
   "codemirror_mode": {
    "name": "ipython",
    "version": 3
   },
   "file_extension": ".py",
   "mimetype": "text/x-python",
   "name": "python",
   "nbconvert_exporter": "python",
   "pygments_lexer": "ipython3",
   "version": "3.10.8"
  }
 },
 "nbformat": 4,
 "nbformat_minor": 5
}
