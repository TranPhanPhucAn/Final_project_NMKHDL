{
 "cells": [
  {
   "cell_type": "markdown",
   "id": "eff457a3-7f8d-4df7-a6be-d7411bd07f90",
   "metadata": {},
   "source": [
    "<div style=\"text-align: center; background-color: #5A96E3; font-family: 'Trebuchet MS', Arial, sans-serif; color: white; padding: 20px; font-size: 40px; font-weight: bold; border-radius: 0 0 0 0; box-shadow: 0px 6px 8px rgba(0, 0, 0, 0.2);\">\n",
    "  Model</div>"
   ]
  },
  {
   "cell_type": "markdown",
   "id": "9a8e5ef3-6f8c-45f7-a50c-bc09dfafe3b2",
   "metadata": {},
   "source": [
    "## Import libraries"
   ]
  },
  {
   "cell_type": "code",
   "execution_count": 1,
   "id": "d27aa712-9671-42ee-84e8-7a8cf3fcd367",
   "metadata": {},
   "outputs": [],
   "source": [
    "import numpy as np\n",
    "import pandas as pd\n",
    "import matplotlib.pyplot as plt\n",
    "import seaborn as sns\n",
    "from sklearn.model_selection import train_test_split\n",
    "from sklearn.tree import DecisionTreeRegressor\n",
    "from sklearn.linear_model import LinearRegression\n",
    "from sklearn.ensemble import RandomForestRegressor\n",
    "from sklearn.metrics import confusion_matrix\n",
    "from sklearn.metrics import mean_squared_error\n",
    "from sklearn.model_selection import cross_val_score\n",
    "from sklearn.model_selection import ShuffleSplit"
   ]
  },
  {
   "cell_type": "markdown",
   "id": "dd708dde-9192-423f-9e7e-a597b277257a",
   "metadata": {},
   "source": [
    "## Read csv file"
   ]
  },
  {
   "cell_type": "code",
   "execution_count": 2,
   "id": "2ddc74b3-c551-488b-b726-a1c31b762645",
   "metadata": {},
   "outputs": [
    {
     "data": {
      "text/html": [
       "<div>\n",
       "<style scoped>\n",
       "    .dataframe tbody tr th:only-of-type {\n",
       "        vertical-align: middle;\n",
       "    }\n",
       "\n",
       "    .dataframe tbody tr th {\n",
       "        vertical-align: top;\n",
       "    }\n",
       "\n",
       "    .dataframe thead th {\n",
       "        text-align: right;\n",
       "    }\n",
       "</style>\n",
       "<table border=\"1\" class=\"dataframe\">\n",
       "  <thead>\n",
       "    <tr style=\"text-align: right;\">\n",
       "      <th></th>\n",
       "      <th>Name</th>\n",
       "      <th>Height</th>\n",
       "      <th>Weight</th>\n",
       "      <th>Preferred Foot</th>\n",
       "      <th>Birth Date</th>\n",
       "      <th>Age</th>\n",
       "      <th>Nation</th>\n",
       "      <th>Club</th>\n",
       "      <th>League</th>\n",
       "      <th>Preferred Positions</th>\n",
       "      <th>...</th>\n",
       "      <th>POT</th>\n",
       "      <th>Value</th>\n",
       "      <th>Wage</th>\n",
       "      <th>Ball Skills</th>\n",
       "      <th>Defence</th>\n",
       "      <th>Mental</th>\n",
       "      <th>Passing</th>\n",
       "      <th>Physical</th>\n",
       "      <th>Shooting</th>\n",
       "      <th>Goalkeeper</th>\n",
       "    </tr>\n",
       "  </thead>\n",
       "  <tbody>\n",
       "    <tr>\n",
       "      <th>0</th>\n",
       "      <td>Erling Haaland</td>\n",
       "      <td>195</td>\n",
       "      <td>94</td>\n",
       "      <td>Left</td>\n",
       "      <td>2000-07-21</td>\n",
       "      <td>23</td>\n",
       "      <td>Norway</td>\n",
       "      <td>Manchester City</td>\n",
       "      <td>England Premier League (1)</td>\n",
       "      <td>ST</td>\n",
       "      <td>...</td>\n",
       "      <td>94</td>\n",
       "      <td>157000000.0</td>\n",
       "      <td>340000.0</td>\n",
       "      <td>80.5</td>\n",
       "      <td>38.0</td>\n",
       "      <td>80.2</td>\n",
       "      <td>59.0</td>\n",
       "      <td>83.7</td>\n",
       "      <td>84.0</td>\n",
       "      <td>10.4</td>\n",
       "    </tr>\n",
       "    <tr>\n",
       "      <th>1</th>\n",
       "      <td>Kylian Mbappé</td>\n",
       "      <td>182</td>\n",
       "      <td>75</td>\n",
       "      <td>Right</td>\n",
       "      <td>1998-12-20</td>\n",
       "      <td>24</td>\n",
       "      <td>France</td>\n",
       "      <td>Paris Saint-Germain</td>\n",
       "      <td>France Ligue 1 (1)</td>\n",
       "      <td>ST, LW</td>\n",
       "      <td>...</td>\n",
       "      <td>94</td>\n",
       "      <td>153500000.0</td>\n",
       "      <td>225000.0</td>\n",
       "      <td>92.5</td>\n",
       "      <td>33.0</td>\n",
       "      <td>76.7</td>\n",
       "      <td>78.3</td>\n",
       "      <td>89.0</td>\n",
       "      <td>82.2</td>\n",
       "      <td>8.4</td>\n",
       "    </tr>\n",
       "    <tr>\n",
       "      <th>2</th>\n",
       "      <td>Kevin De Bruyne</td>\n",
       "      <td>181</td>\n",
       "      <td>75</td>\n",
       "      <td>Right</td>\n",
       "      <td>1991-06-28</td>\n",
       "      <td>32</td>\n",
       "      <td>Belgium</td>\n",
       "      <td>Manchester City</td>\n",
       "      <td>England Premier League (1)</td>\n",
       "      <td>CM, CAM</td>\n",
       "      <td>...</td>\n",
       "      <td>91</td>\n",
       "      <td>103000000.0</td>\n",
       "      <td>350000.0</td>\n",
       "      <td>89.0</td>\n",
       "      <td>61.5</td>\n",
       "      <td>84.0</td>\n",
       "      <td>94.3</td>\n",
       "      <td>75.7</td>\n",
       "      <td>83.1</td>\n",
       "      <td>11.2</td>\n",
       "    </tr>\n",
       "    <tr>\n",
       "      <th>3</th>\n",
       "      <td>Harry Kane</td>\n",
       "      <td>188</td>\n",
       "      <td>85</td>\n",
       "      <td>Right</td>\n",
       "      <td>1993-07-28</td>\n",
       "      <td>30</td>\n",
       "      <td>England</td>\n",
       "      <td>Bayern München</td>\n",
       "      <td>Germany 1. Bundesliga (1)</td>\n",
       "      <td>ST</td>\n",
       "      <td>...</td>\n",
       "      <td>90</td>\n",
       "      <td>119500000.0</td>\n",
       "      <td>170000.0</td>\n",
       "      <td>84.5</td>\n",
       "      <td>42.0</td>\n",
       "      <td>81.3</td>\n",
       "      <td>85.0</td>\n",
       "      <td>75.9</td>\n",
       "      <td>86.5</td>\n",
       "      <td>10.8</td>\n",
       "    </tr>\n",
       "    <tr>\n",
       "      <th>4</th>\n",
       "      <td>Thibaut Courtois</td>\n",
       "      <td>199</td>\n",
       "      <td>96</td>\n",
       "      <td>Left</td>\n",
       "      <td>1992-05-11</td>\n",
       "      <td>31</td>\n",
       "      <td>Belgium</td>\n",
       "      <td>Real Madrid</td>\n",
       "      <td>Spain Primera Division (1)</td>\n",
       "      <td>GK</td>\n",
       "      <td>...</td>\n",
       "      <td>90</td>\n",
       "      <td>63000000.0</td>\n",
       "      <td>250000.0</td>\n",
       "      <td>18.0</td>\n",
       "      <td>17.0</td>\n",
       "      <td>41.5</td>\n",
       "      <td>27.3</td>\n",
       "      <td>54.0</td>\n",
       "      <td>22.4</td>\n",
       "      <td>86.6</td>\n",
       "    </tr>\n",
       "    <tr>\n",
       "      <th>5</th>\n",
       "      <td>Robert Lewandowski</td>\n",
       "      <td>185</td>\n",
       "      <td>81</td>\n",
       "      <td>Right</td>\n",
       "      <td>1988-08-21</td>\n",
       "      <td>35</td>\n",
       "      <td>Poland</td>\n",
       "      <td>FC Barcelona</td>\n",
       "      <td>Spain Primera Division (1)</td>\n",
       "      <td>ST</td>\n",
       "      <td>...</td>\n",
       "      <td>90</td>\n",
       "      <td>58000000.0</td>\n",
       "      <td>340000.0</td>\n",
       "      <td>88.0</td>\n",
       "      <td>30.5</td>\n",
       "      <td>81.0</td>\n",
       "      <td>76.7</td>\n",
       "      <td>81.1</td>\n",
       "      <td>87.8</td>\n",
       "      <td>10.2</td>\n",
       "    </tr>\n",
       "    <tr>\n",
       "      <th>6</th>\n",
       "      <td>Karim Benzema</td>\n",
       "      <td>185</td>\n",
       "      <td>81</td>\n",
       "      <td>Right</td>\n",
       "      <td>1987-12-19</td>\n",
       "      <td>35</td>\n",
       "      <td>France</td>\n",
       "      <td>Al Ittihad</td>\n",
       "      <td>Saudi Pro League (1)</td>\n",
       "      <td>CF, ST</td>\n",
       "      <td>...</td>\n",
       "      <td>90</td>\n",
       "      <td>51000000.0</td>\n",
       "      <td>95000.0</td>\n",
       "      <td>89.0</td>\n",
       "      <td>21.0</td>\n",
       "      <td>77.7</td>\n",
       "      <td>80.0</td>\n",
       "      <td>79.3</td>\n",
       "      <td>84.6</td>\n",
       "      <td>8.2</td>\n",
       "    </tr>\n",
       "    <tr>\n",
       "      <th>7</th>\n",
       "      <td>Lionel Messi</td>\n",
       "      <td>169</td>\n",
       "      <td>67</td>\n",
       "      <td>Left</td>\n",
       "      <td>1987-06-24</td>\n",
       "      <td>36</td>\n",
       "      <td>Argentina</td>\n",
       "      <td>Inter Miami</td>\n",
       "      <td>USA Major League Soccer (1)</td>\n",
       "      <td>CF, CAM</td>\n",
       "      <td>...</td>\n",
       "      <td>90</td>\n",
       "      <td>41000000.0</td>\n",
       "      <td>23000.0</td>\n",
       "      <td>94.5</td>\n",
       "      <td>29.5</td>\n",
       "      <td>75.2</td>\n",
       "      <td>88.0</td>\n",
       "      <td>79.4</td>\n",
       "      <td>83.6</td>\n",
       "      <td>10.8</td>\n",
       "    </tr>\n",
       "    <tr>\n",
       "      <th>8</th>\n",
       "      <td>Rúben Dias</td>\n",
       "      <td>187</td>\n",
       "      <td>82</td>\n",
       "      <td>Right</td>\n",
       "      <td>1997-05-14</td>\n",
       "      <td>26</td>\n",
       "      <td>Portugal</td>\n",
       "      <td>Manchester City</td>\n",
       "      <td>England Premier League (1)</td>\n",
       "      <td>CB</td>\n",
       "      <td>...</td>\n",
       "      <td>90</td>\n",
       "      <td>97500000.0</td>\n",
       "      <td>250000.0</td>\n",
       "      <td>69.5</td>\n",
       "      <td>89.0</td>\n",
       "      <td>73.2</td>\n",
       "      <td>71.0</td>\n",
       "      <td>70.1</td>\n",
       "      <td>48.4</td>\n",
       "      <td>9.4</td>\n",
       "    </tr>\n",
       "    <tr>\n",
       "      <th>9</th>\n",
       "      <td>Vini Jr.</td>\n",
       "      <td>176</td>\n",
       "      <td>73</td>\n",
       "      <td>Right</td>\n",
       "      <td>2000-07-12</td>\n",
       "      <td>23</td>\n",
       "      <td>Brazil</td>\n",
       "      <td>Real Madrid</td>\n",
       "      <td>Spain Primera Division (1)</td>\n",
       "      <td>LW</td>\n",
       "      <td>...</td>\n",
       "      <td>94</td>\n",
       "      <td>121500000.0</td>\n",
       "      <td>310000.0</td>\n",
       "      <td>91.0</td>\n",
       "      <td>21.5</td>\n",
       "      <td>69.5</td>\n",
       "      <td>78.3</td>\n",
       "      <td>84.3</td>\n",
       "      <td>71.4</td>\n",
       "      <td>7.2</td>\n",
       "    </tr>\n",
       "  </tbody>\n",
       "</table>\n",
       "<p>10 rows × 21 columns</p>\n",
       "</div>"
      ],
      "text/plain": [
       "                  Name  Height  Weight Preferred Foot Birth Date  Age  \\\n",
       "0      Erling Haaland      195      94           Left 2000-07-21   23   \n",
       "1       Kylian Mbappé      182      75          Right 1998-12-20   24   \n",
       "2     Kevin De Bruyne      181      75          Right 1991-06-28   32   \n",
       "3          Harry Kane      188      85          Right 1993-07-28   30   \n",
       "4    Thibaut Courtois      199      96           Left 1992-05-11   31   \n",
       "5  Robert Lewandowski      185      81          Right 1988-08-21   35   \n",
       "6       Karim Benzema      185      81          Right 1987-12-19   35   \n",
       "7        Lionel Messi      169      67           Left 1987-06-24   36   \n",
       "8          Rúben Dias      187      82          Right 1997-05-14   26   \n",
       "9            Vini Jr.      176      73          Right 2000-07-12   23   \n",
       "\n",
       "      Nation                 Club                       League  \\\n",
       "0     Norway      Manchester City   England Premier League (1)   \n",
       "1     France  Paris Saint-Germain           France Ligue 1 (1)   \n",
       "2    Belgium      Manchester City   England Premier League (1)   \n",
       "3    England       Bayern München    Germany 1. Bundesliga (1)   \n",
       "4    Belgium          Real Madrid   Spain Primera Division (1)   \n",
       "5     Poland         FC Barcelona   Spain Primera Division (1)   \n",
       "6     France           Al Ittihad         Saudi Pro League (1)   \n",
       "7  Argentina          Inter Miami  USA Major League Soccer (1)   \n",
       "8   Portugal      Manchester City   England Premier League (1)   \n",
       "9     Brazil          Real Madrid   Spain Primera Division (1)   \n",
       "\n",
       "  Preferred Positions  ...  POT        Value      Wage  Ball Skills  Defence  \\\n",
       "0                  ST  ...   94  157000000.0  340000.0         80.5     38.0   \n",
       "1              ST, LW  ...   94  153500000.0  225000.0         92.5     33.0   \n",
       "2             CM, CAM  ...   91  103000000.0  350000.0         89.0     61.5   \n",
       "3                  ST  ...   90  119500000.0  170000.0         84.5     42.0   \n",
       "4                  GK  ...   90   63000000.0  250000.0         18.0     17.0   \n",
       "5                  ST  ...   90   58000000.0  340000.0         88.0     30.5   \n",
       "6              CF, ST  ...   90   51000000.0   95000.0         89.0     21.0   \n",
       "7             CF, CAM  ...   90   41000000.0   23000.0         94.5     29.5   \n",
       "8                  CB  ...   90   97500000.0  250000.0         69.5     89.0   \n",
       "9                  LW  ...   94  121500000.0  310000.0         91.0     21.5   \n",
       "\n",
       "   Mental  Passing  Physical  Shooting  Goalkeeper  \n",
       "0    80.2     59.0      83.7      84.0        10.4  \n",
       "1    76.7     78.3      89.0      82.2         8.4  \n",
       "2    84.0     94.3      75.7      83.1        11.2  \n",
       "3    81.3     85.0      75.9      86.5        10.8  \n",
       "4    41.5     27.3      54.0      22.4        86.6  \n",
       "5    81.0     76.7      81.1      87.8        10.2  \n",
       "6    77.7     80.0      79.3      84.6         8.2  \n",
       "7    75.2     88.0      79.4      83.6        10.8  \n",
       "8    73.2     71.0      70.1      48.4         9.4  \n",
       "9    69.5     78.3      84.3      71.4         7.2  \n",
       "\n",
       "[10 rows x 21 columns]"
      ]
     },
     "execution_count": 2,
     "metadata": {},
     "output_type": "execute_result"
    }
   ],
   "source": [
    "df = pd.read_csv('data_footballer_processed.csv', parse_dates=['Birth Date'])\n",
    "df.head(10)"
   ]
  },
  {
   "cell_type": "code",
   "execution_count": 3,
   "id": "b49dc210-909d-484d-b0cb-10c4838016e1",
   "metadata": {},
   "outputs": [
    {
     "name": "stdout",
     "output_type": "stream",
     "text": [
      "<class 'pandas.core.frame.DataFrame'>\n",
      "RangeIndex: 10020 entries, 0 to 10019\n",
      "Data columns (total 21 columns):\n",
      " #   Column               Non-Null Count  Dtype         \n",
      "---  ------               --------------  -----         \n",
      " 0   Name                 10020 non-null  object        \n",
      " 1   Height               10020 non-null  int64         \n",
      " 2   Weight               10020 non-null  int64         \n",
      " 3   Preferred Foot       10020 non-null  object        \n",
      " 4   Birth Date           10020 non-null  datetime64[ns]\n",
      " 5   Age                  10020 non-null  int64         \n",
      " 6   Nation               10020 non-null  object        \n",
      " 7   Club                 10020 non-null  object        \n",
      " 8   League               10020 non-null  object        \n",
      " 9   Preferred Positions  10020 non-null  object        \n",
      " 10  OVR                  10020 non-null  int64         \n",
      " 11  POT                  10020 non-null  int64         \n",
      " 12  Value                10020 non-null  float64       \n",
      " 13  Wage                 10020 non-null  float64       \n",
      " 14  Ball Skills          10020 non-null  float64       \n",
      " 15  Defence              10020 non-null  float64       \n",
      " 16  Mental               10020 non-null  float64       \n",
      " 17  Passing              10020 non-null  float64       \n",
      " 18  Physical             10020 non-null  float64       \n",
      " 19  Shooting             10020 non-null  float64       \n",
      " 20  Goalkeeper           10020 non-null  float64       \n",
      "dtypes: datetime64[ns](1), float64(9), int64(5), object(6)\n",
      "memory usage: 1.6+ MB\n"
     ]
    }
   ],
   "source": [
    "df.info()"
   ]
  },
  {
   "cell_type": "markdown",
   "id": "5d6e3a6d-6018-4f56-aec4-5792646f403a",
   "metadata": {},
   "source": [
    "## Model"
   ]
  },
  {
   "cell_type": "markdown",
   "id": "18c0dbea-0169-479e-8731-9ad8bf2097de",
   "metadata": {},
   "source": [
    "- **We create a model to predict Value of a footballer**, there are features in dataset that influence the target variable `Value`:\n",
    "  - Height\n",
    "  - Weight\n",
    "  - Nation\n",
    "  - League\n",
    "  - Preferred Positions\n",
    "  - Age\n",
    "  - OVR\n",
    "  - POT\n",
    "  - Ball Skill\n",
    "  - Defence\n",
    "  - Mental\n",
    "  - Passing\n",
    "  - Physical\n",
    "  - Shooting\n",
    "  - Goalkeeper\n",
    "- Predicting the value of a footballer is a regression task where the goal is to estimate a continuous variable (e.g., the monetary value of the player). Different regression algorithms can be considered for this task, including **Decision Tree Regression**, **Linear Regression**, and **Random Forest Regression**.\n",
    "- Here's a detailed explanation of why you might choose each of these algorithms:\n",
    "  - **Linear Regression**: Linear Regression is a simple and interpretable algorithm that assumes a linear relationship between the features and the target variable. It's suitable when the relationship between the features and the target is approximately linear.\n",
    "  - **Decision Tree Regression**: Decision trees are versatile and can capture non-linear relationships in the data. They are useful when the relationship between features and the target is complex and non-linear.\n",
    "  - **Random Forest Regression**: Random Forest is an ensemble method that builds multiple decision trees and averages their predictions. It is robust, handles complex relationships well, and is less prone to overfitting than a single decision tree.\n"
   ]
  },
  {
   "cell_type": "markdown",
   "id": "f5f986a9-687a-4fc2-934e-ae7ebcd8e5b8",
   "metadata": {},
   "source": [
    "### Preprocessing"
   ]
  },
  {
   "cell_type": "markdown",
   "id": "9685f6ad-347e-44b3-9db3-882a21f81840",
   "metadata": {},
   "source": [
    "- Categorical variables, such as `League`, `Nation`, and `Preferred Positions`, can significantly influence the target variable `Value` in a dataset.\n",
    "- In the context of a machine learning model, these categorical features often hold valuable information about the characteristics of entities like players in a sports dataset.\n",
    "- To incorporate these categorical variables into a machine learning model, it's essential to encode them appropriately.\n",
    "- One common method is one-hot encoding, which transforms categorical variables into a binary format, creating binary columns for each category. This encoding preserves the distinctiveness of categories while allowing the model to effectively use them as features for predicting the target variable."
   ]
  },
  {
   "cell_type": "code",
   "execution_count": 4,
   "id": "bbb9f12e-9501-447f-ba2a-c0fe7f361505",
   "metadata": {},
   "outputs": [
    {
     "data": {
      "text/html": [
       "<div>\n",
       "<style scoped>\n",
       "    .dataframe tbody tr th:only-of-type {\n",
       "        vertical-align: middle;\n",
       "    }\n",
       "\n",
       "    .dataframe tbody tr th {\n",
       "        vertical-align: top;\n",
       "    }\n",
       "\n",
       "    .dataframe thead th {\n",
       "        text-align: right;\n",
       "    }\n",
       "</style>\n",
       "<table border=\"1\" class=\"dataframe\">\n",
       "  <thead>\n",
       "    <tr style=\"text-align: right;\">\n",
       "      <th></th>\n",
       "      <th>League_Argentina Primera Division (1)</th>\n",
       "      <th>League_Australia A-League (1)</th>\n",
       "      <th>League_Austria Bundesliga (1)</th>\n",
       "      <th>League_Belgium Pro League (1)</th>\n",
       "      <th>League_CONMEBOL Libertadores</th>\n",
       "      <th>League_CONMEBOL Sudamericana</th>\n",
       "      <th>League_China Super League (1)</th>\n",
       "      <th>League_Denmark Superliga (1)</th>\n",
       "      <th>League_England Championship (2)</th>\n",
       "      <th>League_England League One (3)</th>\n",
       "      <th>...</th>\n",
       "      <th>RWB</th>\n",
       "      <th>CDM</th>\n",
       "      <th>CM</th>\n",
       "      <th>LM</th>\n",
       "      <th>RM</th>\n",
       "      <th>CAM</th>\n",
       "      <th>LW</th>\n",
       "      <th>RW</th>\n",
       "      <th>CF</th>\n",
       "      <th>ST</th>\n",
       "    </tr>\n",
       "  </thead>\n",
       "  <tbody>\n",
       "    <tr>\n",
       "      <th>0</th>\n",
       "      <td>False</td>\n",
       "      <td>False</td>\n",
       "      <td>False</td>\n",
       "      <td>False</td>\n",
       "      <td>False</td>\n",
       "      <td>False</td>\n",
       "      <td>False</td>\n",
       "      <td>False</td>\n",
       "      <td>False</td>\n",
       "      <td>False</td>\n",
       "      <td>...</td>\n",
       "      <td>0</td>\n",
       "      <td>0</td>\n",
       "      <td>0</td>\n",
       "      <td>0</td>\n",
       "      <td>0</td>\n",
       "      <td>0</td>\n",
       "      <td>0</td>\n",
       "      <td>0</td>\n",
       "      <td>0</td>\n",
       "      <td>1</td>\n",
       "    </tr>\n",
       "    <tr>\n",
       "      <th>1</th>\n",
       "      <td>False</td>\n",
       "      <td>False</td>\n",
       "      <td>False</td>\n",
       "      <td>False</td>\n",
       "      <td>False</td>\n",
       "      <td>False</td>\n",
       "      <td>False</td>\n",
       "      <td>False</td>\n",
       "      <td>False</td>\n",
       "      <td>False</td>\n",
       "      <td>...</td>\n",
       "      <td>0</td>\n",
       "      <td>0</td>\n",
       "      <td>0</td>\n",
       "      <td>0</td>\n",
       "      <td>0</td>\n",
       "      <td>0</td>\n",
       "      <td>1</td>\n",
       "      <td>0</td>\n",
       "      <td>0</td>\n",
       "      <td>1</td>\n",
       "    </tr>\n",
       "    <tr>\n",
       "      <th>2</th>\n",
       "      <td>False</td>\n",
       "      <td>False</td>\n",
       "      <td>False</td>\n",
       "      <td>False</td>\n",
       "      <td>False</td>\n",
       "      <td>False</td>\n",
       "      <td>False</td>\n",
       "      <td>False</td>\n",
       "      <td>False</td>\n",
       "      <td>False</td>\n",
       "      <td>...</td>\n",
       "      <td>0</td>\n",
       "      <td>0</td>\n",
       "      <td>1</td>\n",
       "      <td>0</td>\n",
       "      <td>0</td>\n",
       "      <td>1</td>\n",
       "      <td>0</td>\n",
       "      <td>0</td>\n",
       "      <td>0</td>\n",
       "      <td>0</td>\n",
       "    </tr>\n",
       "    <tr>\n",
       "      <th>3</th>\n",
       "      <td>False</td>\n",
       "      <td>False</td>\n",
       "      <td>False</td>\n",
       "      <td>False</td>\n",
       "      <td>False</td>\n",
       "      <td>False</td>\n",
       "      <td>False</td>\n",
       "      <td>False</td>\n",
       "      <td>False</td>\n",
       "      <td>False</td>\n",
       "      <td>...</td>\n",
       "      <td>0</td>\n",
       "      <td>0</td>\n",
       "      <td>0</td>\n",
       "      <td>0</td>\n",
       "      <td>0</td>\n",
       "      <td>0</td>\n",
       "      <td>0</td>\n",
       "      <td>0</td>\n",
       "      <td>0</td>\n",
       "      <td>1</td>\n",
       "    </tr>\n",
       "    <tr>\n",
       "      <th>4</th>\n",
       "      <td>False</td>\n",
       "      <td>False</td>\n",
       "      <td>False</td>\n",
       "      <td>False</td>\n",
       "      <td>False</td>\n",
       "      <td>False</td>\n",
       "      <td>False</td>\n",
       "      <td>False</td>\n",
       "      <td>False</td>\n",
       "      <td>False</td>\n",
       "      <td>...</td>\n",
       "      <td>0</td>\n",
       "      <td>0</td>\n",
       "      <td>0</td>\n",
       "      <td>0</td>\n",
       "      <td>0</td>\n",
       "      <td>0</td>\n",
       "      <td>0</td>\n",
       "      <td>0</td>\n",
       "      <td>0</td>\n",
       "      <td>0</td>\n",
       "    </tr>\n",
       "    <tr>\n",
       "      <th>...</th>\n",
       "      <td>...</td>\n",
       "      <td>...</td>\n",
       "      <td>...</td>\n",
       "      <td>...</td>\n",
       "      <td>...</td>\n",
       "      <td>...</td>\n",
       "      <td>...</td>\n",
       "      <td>...</td>\n",
       "      <td>...</td>\n",
       "      <td>...</td>\n",
       "      <td>...</td>\n",
       "      <td>...</td>\n",
       "      <td>...</td>\n",
       "      <td>...</td>\n",
       "      <td>...</td>\n",
       "      <td>...</td>\n",
       "      <td>...</td>\n",
       "      <td>...</td>\n",
       "      <td>...</td>\n",
       "      <td>...</td>\n",
       "      <td>...</td>\n",
       "    </tr>\n",
       "    <tr>\n",
       "      <th>10015</th>\n",
       "      <td>False</td>\n",
       "      <td>False</td>\n",
       "      <td>False</td>\n",
       "      <td>False</td>\n",
       "      <td>False</td>\n",
       "      <td>False</td>\n",
       "      <td>False</td>\n",
       "      <td>False</td>\n",
       "      <td>False</td>\n",
       "      <td>False</td>\n",
       "      <td>...</td>\n",
       "      <td>0</td>\n",
       "      <td>0</td>\n",
       "      <td>0</td>\n",
       "      <td>0</td>\n",
       "      <td>0</td>\n",
       "      <td>0</td>\n",
       "      <td>0</td>\n",
       "      <td>0</td>\n",
       "      <td>0</td>\n",
       "      <td>0</td>\n",
       "    </tr>\n",
       "    <tr>\n",
       "      <th>10016</th>\n",
       "      <td>False</td>\n",
       "      <td>False</td>\n",
       "      <td>False</td>\n",
       "      <td>False</td>\n",
       "      <td>False</td>\n",
       "      <td>False</td>\n",
       "      <td>False</td>\n",
       "      <td>False</td>\n",
       "      <td>True</td>\n",
       "      <td>False</td>\n",
       "      <td>...</td>\n",
       "      <td>1</td>\n",
       "      <td>0</td>\n",
       "      <td>0</td>\n",
       "      <td>0</td>\n",
       "      <td>0</td>\n",
       "      <td>0</td>\n",
       "      <td>0</td>\n",
       "      <td>0</td>\n",
       "      <td>0</td>\n",
       "      <td>0</td>\n",
       "    </tr>\n",
       "    <tr>\n",
       "      <th>10017</th>\n",
       "      <td>False</td>\n",
       "      <td>False</td>\n",
       "      <td>False</td>\n",
       "      <td>False</td>\n",
       "      <td>False</td>\n",
       "      <td>True</td>\n",
       "      <td>False</td>\n",
       "      <td>False</td>\n",
       "      <td>False</td>\n",
       "      <td>False</td>\n",
       "      <td>...</td>\n",
       "      <td>0</td>\n",
       "      <td>0</td>\n",
       "      <td>1</td>\n",
       "      <td>0</td>\n",
       "      <td>0</td>\n",
       "      <td>0</td>\n",
       "      <td>0</td>\n",
       "      <td>0</td>\n",
       "      <td>0</td>\n",
       "      <td>0</td>\n",
       "    </tr>\n",
       "    <tr>\n",
       "      <th>10018</th>\n",
       "      <td>False</td>\n",
       "      <td>False</td>\n",
       "      <td>False</td>\n",
       "      <td>False</td>\n",
       "      <td>False</td>\n",
       "      <td>False</td>\n",
       "      <td>False</td>\n",
       "      <td>False</td>\n",
       "      <td>False</td>\n",
       "      <td>False</td>\n",
       "      <td>...</td>\n",
       "      <td>0</td>\n",
       "      <td>0</td>\n",
       "      <td>0</td>\n",
       "      <td>0</td>\n",
       "      <td>0</td>\n",
       "      <td>0</td>\n",
       "      <td>0</td>\n",
       "      <td>0</td>\n",
       "      <td>0</td>\n",
       "      <td>0</td>\n",
       "    </tr>\n",
       "    <tr>\n",
       "      <th>10019</th>\n",
       "      <td>False</td>\n",
       "      <td>False</td>\n",
       "      <td>False</td>\n",
       "      <td>False</td>\n",
       "      <td>False</td>\n",
       "      <td>False</td>\n",
       "      <td>False</td>\n",
       "      <td>False</td>\n",
       "      <td>False</td>\n",
       "      <td>False</td>\n",
       "      <td>...</td>\n",
       "      <td>0</td>\n",
       "      <td>0</td>\n",
       "      <td>0</td>\n",
       "      <td>0</td>\n",
       "      <td>0</td>\n",
       "      <td>0</td>\n",
       "      <td>0</td>\n",
       "      <td>0</td>\n",
       "      <td>0</td>\n",
       "      <td>0</td>\n",
       "    </tr>\n",
       "  </tbody>\n",
       "</table>\n",
       "<p>10020 rows × 194 columns</p>\n",
       "</div>"
      ],
      "text/plain": [
       "       League_Argentina Primera Division (1)  League_Australia A-League (1)  \\\n",
       "0                                      False                          False   \n",
       "1                                      False                          False   \n",
       "2                                      False                          False   \n",
       "3                                      False                          False   \n",
       "4                                      False                          False   \n",
       "...                                      ...                            ...   \n",
       "10015                                  False                          False   \n",
       "10016                                  False                          False   \n",
       "10017                                  False                          False   \n",
       "10018                                  False                          False   \n",
       "10019                                  False                          False   \n",
       "\n",
       "       League_Austria Bundesliga (1)  League_Belgium Pro League (1)  \\\n",
       "0                              False                          False   \n",
       "1                              False                          False   \n",
       "2                              False                          False   \n",
       "3                              False                          False   \n",
       "4                              False                          False   \n",
       "...                              ...                            ...   \n",
       "10015                          False                          False   \n",
       "10016                          False                          False   \n",
       "10017                          False                          False   \n",
       "10018                          False                          False   \n",
       "10019                          False                          False   \n",
       "\n",
       "       League_CONMEBOL Libertadores  League_CONMEBOL Sudamericana  \\\n",
       "0                             False                         False   \n",
       "1                             False                         False   \n",
       "2                             False                         False   \n",
       "3                             False                         False   \n",
       "4                             False                         False   \n",
       "...                             ...                           ...   \n",
       "10015                         False                         False   \n",
       "10016                         False                         False   \n",
       "10017                         False                          True   \n",
       "10018                         False                         False   \n",
       "10019                         False                         False   \n",
       "\n",
       "       League_China Super League (1)  League_Denmark Superliga (1)  \\\n",
       "0                              False                         False   \n",
       "1                              False                         False   \n",
       "2                              False                         False   \n",
       "3                              False                         False   \n",
       "4                              False                         False   \n",
       "...                              ...                           ...   \n",
       "10015                          False                         False   \n",
       "10016                          False                         False   \n",
       "10017                          False                         False   \n",
       "10018                          False                         False   \n",
       "10019                          False                         False   \n",
       "\n",
       "       League_England Championship (2)  League_England League One (3)  ...  \\\n",
       "0                                False                          False  ...   \n",
       "1                                False                          False  ...   \n",
       "2                                False                          False  ...   \n",
       "3                                False                          False  ...   \n",
       "4                                False                          False  ...   \n",
       "...                                ...                            ...  ...   \n",
       "10015                            False                          False  ...   \n",
       "10016                             True                          False  ...   \n",
       "10017                            False                          False  ...   \n",
       "10018                            False                          False  ...   \n",
       "10019                            False                          False  ...   \n",
       "\n",
       "       RWB  CDM  CM  LM  RM  CAM  LW  RW  CF  ST  \n",
       "0        0    0   0   0   0    0   0   0   0   1  \n",
       "1        0    0   0   0   0    0   1   0   0   1  \n",
       "2        0    0   1   0   0    1   0   0   0   0  \n",
       "3        0    0   0   0   0    0   0   0   0   1  \n",
       "4        0    0   0   0   0    0   0   0   0   0  \n",
       "...    ...  ...  ..  ..  ..  ...  ..  ..  ..  ..  \n",
       "10015    0    0   0   0   0    0   0   0   0   0  \n",
       "10016    1    0   0   0   0    0   0   0   0   0  \n",
       "10017    0    0   1   0   0    0   0   0   0   0  \n",
       "10018    0    0   0   0   0    0   0   0   0   0  \n",
       "10019    0    0   0   0   0    0   0   0   0   0  \n",
       "\n",
       "[10020 rows x 194 columns]"
      ]
     },
     "execution_count": 4,
     "metadata": {},
     "output_type": "execute_result"
    }
   ],
   "source": [
    "# encode columns league and nation\n",
    "one_hot_nation_league_df = pd.get_dummies(df[['League', 'Nation']])\n",
    "# encode column position\n",
    "position_df = df['Preferred Positions']\n",
    "one_hot_position_df = position_df.str.get_dummies(', ')\n",
    "# custom order from GK -> ST\n",
    "custom_order = ['GK', 'LWB', 'LB', 'CB', 'RB', 'RWB', 'CDM', 'CM', 'LM', 'RM', 'CAM', 'LW', 'RW', 'CF', 'ST']\n",
    "one_hot_position_df = one_hot_position_df[custom_order]\n",
    "# merge encode df\n",
    "one_hot_df = one_hot_nation_league_df.merge(one_hot_position_df, left_index=True, right_index=True)\n",
    "one_hot_df"
   ]
  },
  {
   "cell_type": "markdown",
   "id": "c97d25c7-541b-4e1c-987c-58357984243d",
   "metadata": {},
   "source": [
    "- Merge one_hot with numeric columns in df"
   ]
  },
  {
   "cell_type": "code",
   "execution_count": 5,
   "id": "fa3000ba-b0e6-4b5c-b2c1-e3613b5f7a38",
   "metadata": {},
   "outputs": [
    {
     "data": {
      "text/html": [
       "<div>\n",
       "<style scoped>\n",
       "    .dataframe tbody tr th:only-of-type {\n",
       "        vertical-align: middle;\n",
       "    }\n",
       "\n",
       "    .dataframe tbody tr th {\n",
       "        vertical-align: top;\n",
       "    }\n",
       "\n",
       "    .dataframe thead th {\n",
       "        text-align: right;\n",
       "    }\n",
       "</style>\n",
       "<table border=\"1\" class=\"dataframe\">\n",
       "  <thead>\n",
       "    <tr style=\"text-align: right;\">\n",
       "      <th></th>\n",
       "      <th>Height</th>\n",
       "      <th>Weight</th>\n",
       "      <th>Age</th>\n",
       "      <th>OVR</th>\n",
       "      <th>POT</th>\n",
       "      <th>Ball Skills</th>\n",
       "      <th>Defence</th>\n",
       "      <th>Mental</th>\n",
       "      <th>Passing</th>\n",
       "      <th>Physical</th>\n",
       "      <th>...</th>\n",
       "      <th>RWB</th>\n",
       "      <th>CDM</th>\n",
       "      <th>CM</th>\n",
       "      <th>LM</th>\n",
       "      <th>RM</th>\n",
       "      <th>CAM</th>\n",
       "      <th>LW</th>\n",
       "      <th>RW</th>\n",
       "      <th>CF</th>\n",
       "      <th>ST</th>\n",
       "    </tr>\n",
       "  </thead>\n",
       "  <tbody>\n",
       "    <tr>\n",
       "      <th>0</th>\n",
       "      <td>195</td>\n",
       "      <td>94</td>\n",
       "      <td>23</td>\n",
       "      <td>91</td>\n",
       "      <td>94</td>\n",
       "      <td>80.5</td>\n",
       "      <td>38.0</td>\n",
       "      <td>80.2</td>\n",
       "      <td>59.0</td>\n",
       "      <td>83.7</td>\n",
       "      <td>...</td>\n",
       "      <td>0</td>\n",
       "      <td>0</td>\n",
       "      <td>0</td>\n",
       "      <td>0</td>\n",
       "      <td>0</td>\n",
       "      <td>0</td>\n",
       "      <td>0</td>\n",
       "      <td>0</td>\n",
       "      <td>0</td>\n",
       "      <td>1</td>\n",
       "    </tr>\n",
       "    <tr>\n",
       "      <th>1</th>\n",
       "      <td>182</td>\n",
       "      <td>75</td>\n",
       "      <td>24</td>\n",
       "      <td>91</td>\n",
       "      <td>94</td>\n",
       "      <td>92.5</td>\n",
       "      <td>33.0</td>\n",
       "      <td>76.7</td>\n",
       "      <td>78.3</td>\n",
       "      <td>89.0</td>\n",
       "      <td>...</td>\n",
       "      <td>0</td>\n",
       "      <td>0</td>\n",
       "      <td>0</td>\n",
       "      <td>0</td>\n",
       "      <td>0</td>\n",
       "      <td>0</td>\n",
       "      <td>1</td>\n",
       "      <td>0</td>\n",
       "      <td>0</td>\n",
       "      <td>1</td>\n",
       "    </tr>\n",
       "    <tr>\n",
       "      <th>2</th>\n",
       "      <td>181</td>\n",
       "      <td>75</td>\n",
       "      <td>32</td>\n",
       "      <td>91</td>\n",
       "      <td>91</td>\n",
       "      <td>89.0</td>\n",
       "      <td>61.5</td>\n",
       "      <td>84.0</td>\n",
       "      <td>94.3</td>\n",
       "      <td>75.7</td>\n",
       "      <td>...</td>\n",
       "      <td>0</td>\n",
       "      <td>0</td>\n",
       "      <td>1</td>\n",
       "      <td>0</td>\n",
       "      <td>0</td>\n",
       "      <td>1</td>\n",
       "      <td>0</td>\n",
       "      <td>0</td>\n",
       "      <td>0</td>\n",
       "      <td>0</td>\n",
       "    </tr>\n",
       "    <tr>\n",
       "      <th>3</th>\n",
       "      <td>188</td>\n",
       "      <td>85</td>\n",
       "      <td>30</td>\n",
       "      <td>90</td>\n",
       "      <td>90</td>\n",
       "      <td>84.5</td>\n",
       "      <td>42.0</td>\n",
       "      <td>81.3</td>\n",
       "      <td>85.0</td>\n",
       "      <td>75.9</td>\n",
       "      <td>...</td>\n",
       "      <td>0</td>\n",
       "      <td>0</td>\n",
       "      <td>0</td>\n",
       "      <td>0</td>\n",
       "      <td>0</td>\n",
       "      <td>0</td>\n",
       "      <td>0</td>\n",
       "      <td>0</td>\n",
       "      <td>0</td>\n",
       "      <td>1</td>\n",
       "    </tr>\n",
       "    <tr>\n",
       "      <th>4</th>\n",
       "      <td>199</td>\n",
       "      <td>96</td>\n",
       "      <td>31</td>\n",
       "      <td>90</td>\n",
       "      <td>90</td>\n",
       "      <td>18.0</td>\n",
       "      <td>17.0</td>\n",
       "      <td>41.5</td>\n",
       "      <td>27.3</td>\n",
       "      <td>54.0</td>\n",
       "      <td>...</td>\n",
       "      <td>0</td>\n",
       "      <td>0</td>\n",
       "      <td>0</td>\n",
       "      <td>0</td>\n",
       "      <td>0</td>\n",
       "      <td>0</td>\n",
       "      <td>0</td>\n",
       "      <td>0</td>\n",
       "      <td>0</td>\n",
       "      <td>0</td>\n",
       "    </tr>\n",
       "    <tr>\n",
       "      <th>...</th>\n",
       "      <td>...</td>\n",
       "      <td>...</td>\n",
       "      <td>...</td>\n",
       "      <td>...</td>\n",
       "      <td>...</td>\n",
       "      <td>...</td>\n",
       "      <td>...</td>\n",
       "      <td>...</td>\n",
       "      <td>...</td>\n",
       "      <td>...</td>\n",
       "      <td>...</td>\n",
       "      <td>...</td>\n",
       "      <td>...</td>\n",
       "      <td>...</td>\n",
       "      <td>...</td>\n",
       "      <td>...</td>\n",
       "      <td>...</td>\n",
       "      <td>...</td>\n",
       "      <td>...</td>\n",
       "      <td>...</td>\n",
       "      <td>...</td>\n",
       "    </tr>\n",
       "    <tr>\n",
       "      <th>10015</th>\n",
       "      <td>191</td>\n",
       "      <td>87</td>\n",
       "      <td>21</td>\n",
       "      <td>65</td>\n",
       "      <td>75</td>\n",
       "      <td>16.5</td>\n",
       "      <td>12.5</td>\n",
       "      <td>30.0</td>\n",
       "      <td>31.3</td>\n",
       "      <td>40.4</td>\n",
       "      <td>...</td>\n",
       "      <td>0</td>\n",
       "      <td>0</td>\n",
       "      <td>0</td>\n",
       "      <td>0</td>\n",
       "      <td>0</td>\n",
       "      <td>0</td>\n",
       "      <td>0</td>\n",
       "      <td>0</td>\n",
       "      <td>0</td>\n",
       "      <td>0</td>\n",
       "    </tr>\n",
       "    <tr>\n",
       "      <th>10016</th>\n",
       "      <td>177</td>\n",
       "      <td>68</td>\n",
       "      <td>20</td>\n",
       "      <td>65</td>\n",
       "      <td>81</td>\n",
       "      <td>66.0</td>\n",
       "      <td>58.0</td>\n",
       "      <td>58.7</td>\n",
       "      <td>60.7</td>\n",
       "      <td>70.7</td>\n",
       "      <td>...</td>\n",
       "      <td>1</td>\n",
       "      <td>0</td>\n",
       "      <td>0</td>\n",
       "      <td>0</td>\n",
       "      <td>0</td>\n",
       "      <td>0</td>\n",
       "      <td>0</td>\n",
       "      <td>0</td>\n",
       "      <td>0</td>\n",
       "      <td>0</td>\n",
       "    </tr>\n",
       "    <tr>\n",
       "      <th>10017</th>\n",
       "      <td>170</td>\n",
       "      <td>60</td>\n",
       "      <td>23</td>\n",
       "      <td>65</td>\n",
       "      <td>74</td>\n",
       "      <td>65.0</td>\n",
       "      <td>58.5</td>\n",
       "      <td>60.3</td>\n",
       "      <td>59.0</td>\n",
       "      <td>58.4</td>\n",
       "      <td>...</td>\n",
       "      <td>0</td>\n",
       "      <td>0</td>\n",
       "      <td>1</td>\n",
       "      <td>0</td>\n",
       "      <td>0</td>\n",
       "      <td>0</td>\n",
       "      <td>0</td>\n",
       "      <td>0</td>\n",
       "      <td>0</td>\n",
       "      <td>0</td>\n",
       "    </tr>\n",
       "    <tr>\n",
       "      <th>10018</th>\n",
       "      <td>187</td>\n",
       "      <td>77</td>\n",
       "      <td>25</td>\n",
       "      <td>65</td>\n",
       "      <td>72</td>\n",
       "      <td>48.0</td>\n",
       "      <td>67.5</td>\n",
       "      <td>55.2</td>\n",
       "      <td>52.0</td>\n",
       "      <td>63.1</td>\n",
       "      <td>...</td>\n",
       "      <td>0</td>\n",
       "      <td>0</td>\n",
       "      <td>0</td>\n",
       "      <td>0</td>\n",
       "      <td>0</td>\n",
       "      <td>0</td>\n",
       "      <td>0</td>\n",
       "      <td>0</td>\n",
       "      <td>0</td>\n",
       "      <td>0</td>\n",
       "    </tr>\n",
       "    <tr>\n",
       "      <th>10019</th>\n",
       "      <td>188</td>\n",
       "      <td>78</td>\n",
       "      <td>27</td>\n",
       "      <td>65</td>\n",
       "      <td>66</td>\n",
       "      <td>60.5</td>\n",
       "      <td>68.0</td>\n",
       "      <td>55.3</td>\n",
       "      <td>54.0</td>\n",
       "      <td>65.1</td>\n",
       "      <td>...</td>\n",
       "      <td>0</td>\n",
       "      <td>0</td>\n",
       "      <td>0</td>\n",
       "      <td>0</td>\n",
       "      <td>0</td>\n",
       "      <td>0</td>\n",
       "      <td>0</td>\n",
       "      <td>0</td>\n",
       "      <td>0</td>\n",
       "      <td>0</td>\n",
       "    </tr>\n",
       "  </tbody>\n",
       "</table>\n",
       "<p>10020 rows × 206 columns</p>\n",
       "</div>"
      ],
      "text/plain": [
       "       Height  Weight  Age  OVR  POT  Ball Skills  Defence  Mental  Passing  \\\n",
       "0         195      94   23   91   94         80.5     38.0    80.2     59.0   \n",
       "1         182      75   24   91   94         92.5     33.0    76.7     78.3   \n",
       "2         181      75   32   91   91         89.0     61.5    84.0     94.3   \n",
       "3         188      85   30   90   90         84.5     42.0    81.3     85.0   \n",
       "4         199      96   31   90   90         18.0     17.0    41.5     27.3   \n",
       "...       ...     ...  ...  ...  ...          ...      ...     ...      ...   \n",
       "10015     191      87   21   65   75         16.5     12.5    30.0     31.3   \n",
       "10016     177      68   20   65   81         66.0     58.0    58.7     60.7   \n",
       "10017     170      60   23   65   74         65.0     58.5    60.3     59.0   \n",
       "10018     187      77   25   65   72         48.0     67.5    55.2     52.0   \n",
       "10019     188      78   27   65   66         60.5     68.0    55.3     54.0   \n",
       "\n",
       "       Physical  ...  RWB  CDM  CM  LM  RM  CAM  LW  RW  CF  ST  \n",
       "0          83.7  ...    0    0   0   0   0    0   0   0   0   1  \n",
       "1          89.0  ...    0    0   0   0   0    0   1   0   0   1  \n",
       "2          75.7  ...    0    0   1   0   0    1   0   0   0   0  \n",
       "3          75.9  ...    0    0   0   0   0    0   0   0   0   1  \n",
       "4          54.0  ...    0    0   0   0   0    0   0   0   0   0  \n",
       "...         ...  ...  ...  ...  ..  ..  ..  ...  ..  ..  ..  ..  \n",
       "10015      40.4  ...    0    0   0   0   0    0   0   0   0   0  \n",
       "10016      70.7  ...    1    0   0   0   0    0   0   0   0   0  \n",
       "10017      58.4  ...    0    0   1   0   0    0   0   0   0   0  \n",
       "10018      63.1  ...    0    0   0   0   0    0   0   0   0   0  \n",
       "10019      65.1  ...    0    0   0   0   0    0   0   0   0   0  \n",
       "\n",
       "[10020 rows x 206 columns]"
      ]
     },
     "execution_count": 5,
     "metadata": {},
     "output_type": "execute_result"
    }
   ],
   "source": [
    "numeric_columns = ['Height', 'Weight', 'Age', 'OVR', 'POT', 'Ball Skills', 'Defence', 'Mental', 'Passing', 'Physical', 'Shooting', 'Goalkeeper']\n",
    "numeric_df = df[numeric_columns]\n",
    "encoded_df = numeric_df.merge(one_hot_df, left_index=True, right_index=True)\n",
    "encoded_df"
   ]
  },
  {
   "cell_type": "markdown",
   "id": "293583aa-0e9d-4d43-9a06-4e39ea86b19e",
   "metadata": {},
   "source": [
    "## Data Modelling"
   ]
  },
  {
   "cell_type": "markdown",
   "id": "6684da65-ab6a-4567-acc8-0ef3de356a7c",
   "metadata": {},
   "source": [
    "### Split dataset for training and testing."
   ]
  },
  {
   "cell_type": "code",
   "execution_count": 6,
   "id": "934be069-cf21-40fc-874e-6947aa135cbf",
   "metadata": {},
   "outputs": [],
   "source": [
    "# Define X, y\n",
    "X = encoded_df\n",
    "y = df['Value']\n",
    "X_train, X_test, y_train, y_test = train_test_split(X, y, test_size=0.2, random_state=42)"
   ]
  },
  {
   "cell_type": "markdown",
   "id": "7787f753-d9ae-4394-b6e3-9a370a9e0a2e",
   "metadata": {},
   "source": [
    "### Decision Tree Regression"
   ]
  },
  {
   "cell_type": "markdown",
   "id": "e6e89311-9b42-439b-8cff-81efe46286d0",
   "metadata": {},
   "source": [
    "####  Training model"
   ]
  },
  {
   "cell_type": "markdown",
   "id": "80475cf4-38ce-47c1-82bd-a7159aaaa70f",
   "metadata": {},
   "source": [
    "- Training a Decision Tree Regression model on the `X_train` and `y_train` "
   ]
  },
  {
   "cell_type": "code",
   "execution_count": 7,
   "id": "0953d36b-6118-4808-96ef-60c22b92317d",
   "metadata": {},
   "outputs": [
    {
     "data": {
      "text/html": [
       "<style>#sk-container-id-1 {color: black;}#sk-container-id-1 pre{padding: 0;}#sk-container-id-1 div.sk-toggleable {background-color: white;}#sk-container-id-1 label.sk-toggleable__label {cursor: pointer;display: block;width: 100%;margin-bottom: 0;padding: 0.3em;box-sizing: border-box;text-align: center;}#sk-container-id-1 label.sk-toggleable__label-arrow:before {content: \"▸\";float: left;margin-right: 0.25em;color: #696969;}#sk-container-id-1 label.sk-toggleable__label-arrow:hover:before {color: black;}#sk-container-id-1 div.sk-estimator:hover label.sk-toggleable__label-arrow:before {color: black;}#sk-container-id-1 div.sk-toggleable__content {max-height: 0;max-width: 0;overflow: hidden;text-align: left;background-color: #f0f8ff;}#sk-container-id-1 div.sk-toggleable__content pre {margin: 0.2em;color: black;border-radius: 0.25em;background-color: #f0f8ff;}#sk-container-id-1 input.sk-toggleable__control:checked~div.sk-toggleable__content {max-height: 200px;max-width: 100%;overflow: auto;}#sk-container-id-1 input.sk-toggleable__control:checked~label.sk-toggleable__label-arrow:before {content: \"▾\";}#sk-container-id-1 div.sk-estimator input.sk-toggleable__control:checked~label.sk-toggleable__label {background-color: #d4ebff;}#sk-container-id-1 div.sk-label input.sk-toggleable__control:checked~label.sk-toggleable__label {background-color: #d4ebff;}#sk-container-id-1 input.sk-hidden--visually {border: 0;clip: rect(1px 1px 1px 1px);clip: rect(1px, 1px, 1px, 1px);height: 1px;margin: -1px;overflow: hidden;padding: 0;position: absolute;width: 1px;}#sk-container-id-1 div.sk-estimator {font-family: monospace;background-color: #f0f8ff;border: 1px dotted black;border-radius: 0.25em;box-sizing: border-box;margin-bottom: 0.5em;}#sk-container-id-1 div.sk-estimator:hover {background-color: #d4ebff;}#sk-container-id-1 div.sk-parallel-item::after {content: \"\";width: 100%;border-bottom: 1px solid gray;flex-grow: 1;}#sk-container-id-1 div.sk-label:hover label.sk-toggleable__label {background-color: #d4ebff;}#sk-container-id-1 div.sk-serial::before {content: \"\";position: absolute;border-left: 1px solid gray;box-sizing: border-box;top: 0;bottom: 0;left: 50%;z-index: 0;}#sk-container-id-1 div.sk-serial {display: flex;flex-direction: column;align-items: center;background-color: white;padding-right: 0.2em;padding-left: 0.2em;position: relative;}#sk-container-id-1 div.sk-item {position: relative;z-index: 1;}#sk-container-id-1 div.sk-parallel {display: flex;align-items: stretch;justify-content: center;background-color: white;position: relative;}#sk-container-id-1 div.sk-item::before, #sk-container-id-1 div.sk-parallel-item::before {content: \"\";position: absolute;border-left: 1px solid gray;box-sizing: border-box;top: 0;bottom: 0;left: 50%;z-index: -1;}#sk-container-id-1 div.sk-parallel-item {display: flex;flex-direction: column;z-index: 1;position: relative;background-color: white;}#sk-container-id-1 div.sk-parallel-item:first-child::after {align-self: flex-end;width: 50%;}#sk-container-id-1 div.sk-parallel-item:last-child::after {align-self: flex-start;width: 50%;}#sk-container-id-1 div.sk-parallel-item:only-child::after {width: 0;}#sk-container-id-1 div.sk-dashed-wrapped {border: 1px dashed gray;margin: 0 0.4em 0.5em 0.4em;box-sizing: border-box;padding-bottom: 0.4em;background-color: white;}#sk-container-id-1 div.sk-label label {font-family: monospace;font-weight: bold;display: inline-block;line-height: 1.2em;}#sk-container-id-1 div.sk-label-container {text-align: center;}#sk-container-id-1 div.sk-container {/* jupyter's `normalize.less` sets `[hidden] { display: none; }` but bootstrap.min.css set `[hidden] { display: none !important; }` so we also need the `!important` here to be able to override the default hidden behavior on the sphinx rendered scikit-learn.org. See: https://github.com/scikit-learn/scikit-learn/issues/21755 */display: inline-block !important;position: relative;}#sk-container-id-1 div.sk-text-repr-fallback {display: none;}</style><div id=\"sk-container-id-1\" class=\"sk-top-container\"><div class=\"sk-text-repr-fallback\"><pre>DecisionTreeRegressor()</pre><b>In a Jupyter environment, please rerun this cell to show the HTML representation or trust the notebook. <br />On GitHub, the HTML representation is unable to render, please try loading this page with nbviewer.org.</b></div><div class=\"sk-container\" hidden><div class=\"sk-item\"><div class=\"sk-estimator sk-toggleable\"><input class=\"sk-toggleable__control sk-hidden--visually\" id=\"sk-estimator-id-1\" type=\"checkbox\" checked><label for=\"sk-estimator-id-1\" class=\"sk-toggleable__label sk-toggleable__label-arrow\">DecisionTreeRegressor</label><div class=\"sk-toggleable__content\"><pre>DecisionTreeRegressor()</pre></div></div></div></div></div>"
      ],
      "text/plain": [
       "DecisionTreeRegressor()"
      ]
     },
     "execution_count": 7,
     "metadata": {},
     "output_type": "execute_result"
    }
   ],
   "source": [
    "my_tree = DecisionTreeRegressor()\n",
    "my_tree.fit(X_train, y_train)"
   ]
  },
  {
   "cell_type": "markdown",
   "id": "34055e3a-dc15-4dbc-85fc-3b0633a978b8",
   "metadata": {},
   "source": [
    "- Predict `X_test`, store in `y_pred`"
   ]
  },
  {
   "cell_type": "code",
   "execution_count": 8,
   "id": "133ece04-7097-4451-a390-b11a88b870b4",
   "metadata": {},
   "outputs": [],
   "source": [
    "y_pred = my_tree.predict(X_test)"
   ]
  },
  {
   "cell_type": "markdown",
   "id": "b9e65d82-e547-49a1-a475-2b6d83e160e2",
   "metadata": {},
   "source": [
    "- Excute mean square error and root mean squared error"
   ]
  },
  {
   "cell_type": "code",
   "execution_count": 9,
   "id": "8183398e-55c2-452b-98f5-8c4867f20e70",
   "metadata": {},
   "outputs": [
    {
     "name": "stdout",
     "output_type": "stream",
     "text": [
      "Mean Squared Error: 4365209905189.6206\n"
     ]
    }
   ],
   "source": [
    "mse = mean_squared_error(y_test, y_pred)\n",
    "print(f'Mean Squared Error: {mse}')"
   ]
  },
  {
   "cell_type": "code",
   "execution_count": 10,
   "id": "e8b78b3a-6e31-474c-b6eb-f046b8d3c007",
   "metadata": {},
   "outputs": [
    {
     "name": "stdout",
     "output_type": "stream",
     "text": [
      "Root mean Squared Error: 2089308.475354853\n"
     ]
    }
   ],
   "source": [
    "rmse = mean_squared_error(y_test, y_pred, squared=False)\n",
    "print(f'Root mean Squared Error: {rmse}')"
   ]
  },
  {
   "cell_type": "markdown",
   "id": "996ab809-6b61-437e-98a6-925edfed0619",
   "metadata": {},
   "source": [
    "### Linear Regression"
   ]
  },
  {
   "cell_type": "markdown",
   "id": "6bee5c2c-c982-4613-8175-06464e9b03c6",
   "metadata": {},
   "source": [
    "####  Training model"
   ]
  },
  {
   "cell_type": "markdown",
   "id": "c7250cf1-63c3-4a43-8463-159a6936a0f8",
   "metadata": {},
   "source": [
    "- Training a Linear Regression model on the `X_train` and `y_train` "
   ]
  },
  {
   "cell_type": "code",
   "execution_count": 11,
   "id": "ce4a8f78-b568-48d8-a7b4-81599b2726dd",
   "metadata": {},
   "outputs": [
    {
     "data": {
      "text/html": [
       "<style>#sk-container-id-2 {color: black;}#sk-container-id-2 pre{padding: 0;}#sk-container-id-2 div.sk-toggleable {background-color: white;}#sk-container-id-2 label.sk-toggleable__label {cursor: pointer;display: block;width: 100%;margin-bottom: 0;padding: 0.3em;box-sizing: border-box;text-align: center;}#sk-container-id-2 label.sk-toggleable__label-arrow:before {content: \"▸\";float: left;margin-right: 0.25em;color: #696969;}#sk-container-id-2 label.sk-toggleable__label-arrow:hover:before {color: black;}#sk-container-id-2 div.sk-estimator:hover label.sk-toggleable__label-arrow:before {color: black;}#sk-container-id-2 div.sk-toggleable__content {max-height: 0;max-width: 0;overflow: hidden;text-align: left;background-color: #f0f8ff;}#sk-container-id-2 div.sk-toggleable__content pre {margin: 0.2em;color: black;border-radius: 0.25em;background-color: #f0f8ff;}#sk-container-id-2 input.sk-toggleable__control:checked~div.sk-toggleable__content {max-height: 200px;max-width: 100%;overflow: auto;}#sk-container-id-2 input.sk-toggleable__control:checked~label.sk-toggleable__label-arrow:before {content: \"▾\";}#sk-container-id-2 div.sk-estimator input.sk-toggleable__control:checked~label.sk-toggleable__label {background-color: #d4ebff;}#sk-container-id-2 div.sk-label input.sk-toggleable__control:checked~label.sk-toggleable__label {background-color: #d4ebff;}#sk-container-id-2 input.sk-hidden--visually {border: 0;clip: rect(1px 1px 1px 1px);clip: rect(1px, 1px, 1px, 1px);height: 1px;margin: -1px;overflow: hidden;padding: 0;position: absolute;width: 1px;}#sk-container-id-2 div.sk-estimator {font-family: monospace;background-color: #f0f8ff;border: 1px dotted black;border-radius: 0.25em;box-sizing: border-box;margin-bottom: 0.5em;}#sk-container-id-2 div.sk-estimator:hover {background-color: #d4ebff;}#sk-container-id-2 div.sk-parallel-item::after {content: \"\";width: 100%;border-bottom: 1px solid gray;flex-grow: 1;}#sk-container-id-2 div.sk-label:hover label.sk-toggleable__label {background-color: #d4ebff;}#sk-container-id-2 div.sk-serial::before {content: \"\";position: absolute;border-left: 1px solid gray;box-sizing: border-box;top: 0;bottom: 0;left: 50%;z-index: 0;}#sk-container-id-2 div.sk-serial {display: flex;flex-direction: column;align-items: center;background-color: white;padding-right: 0.2em;padding-left: 0.2em;position: relative;}#sk-container-id-2 div.sk-item {position: relative;z-index: 1;}#sk-container-id-2 div.sk-parallel {display: flex;align-items: stretch;justify-content: center;background-color: white;position: relative;}#sk-container-id-2 div.sk-item::before, #sk-container-id-2 div.sk-parallel-item::before {content: \"\";position: absolute;border-left: 1px solid gray;box-sizing: border-box;top: 0;bottom: 0;left: 50%;z-index: -1;}#sk-container-id-2 div.sk-parallel-item {display: flex;flex-direction: column;z-index: 1;position: relative;background-color: white;}#sk-container-id-2 div.sk-parallel-item:first-child::after {align-self: flex-end;width: 50%;}#sk-container-id-2 div.sk-parallel-item:last-child::after {align-self: flex-start;width: 50%;}#sk-container-id-2 div.sk-parallel-item:only-child::after {width: 0;}#sk-container-id-2 div.sk-dashed-wrapped {border: 1px dashed gray;margin: 0 0.4em 0.5em 0.4em;box-sizing: border-box;padding-bottom: 0.4em;background-color: white;}#sk-container-id-2 div.sk-label label {font-family: monospace;font-weight: bold;display: inline-block;line-height: 1.2em;}#sk-container-id-2 div.sk-label-container {text-align: center;}#sk-container-id-2 div.sk-container {/* jupyter's `normalize.less` sets `[hidden] { display: none; }` but bootstrap.min.css set `[hidden] { display: none !important; }` so we also need the `!important` here to be able to override the default hidden behavior on the sphinx rendered scikit-learn.org. See: https://github.com/scikit-learn/scikit-learn/issues/21755 */display: inline-block !important;position: relative;}#sk-container-id-2 div.sk-text-repr-fallback {display: none;}</style><div id=\"sk-container-id-2\" class=\"sk-top-container\"><div class=\"sk-text-repr-fallback\"><pre>LinearRegression()</pre><b>In a Jupyter environment, please rerun this cell to show the HTML representation or trust the notebook. <br />On GitHub, the HTML representation is unable to render, please try loading this page with nbviewer.org.</b></div><div class=\"sk-container\" hidden><div class=\"sk-item\"><div class=\"sk-estimator sk-toggleable\"><input class=\"sk-toggleable__control sk-hidden--visually\" id=\"sk-estimator-id-2\" type=\"checkbox\" checked><label for=\"sk-estimator-id-2\" class=\"sk-toggleable__label sk-toggleable__label-arrow\">LinearRegression</label><div class=\"sk-toggleable__content\"><pre>LinearRegression()</pre></div></div></div></div></div>"
      ],
      "text/plain": [
       "LinearRegression()"
      ]
     },
     "execution_count": 11,
     "metadata": {},
     "output_type": "execute_result"
    }
   ],
   "source": [
    "linear_reg = LinearRegression()\n",
    "linear_reg.fit(X_train, y_train)"
   ]
  },
  {
   "cell_type": "markdown",
   "id": "2eef5fbe-fef9-4363-a555-b52bdf535350",
   "metadata": {},
   "source": [
    "- Predict `X_test`, store in `linear_pred`"
   ]
  },
  {
   "cell_type": "code",
   "execution_count": 12,
   "id": "6a28cc80-4f07-4e0d-a3e0-be02f55bdf60",
   "metadata": {},
   "outputs": [],
   "source": [
    "linear_pred = linear_reg.predict(X_test)"
   ]
  },
  {
   "cell_type": "markdown",
   "id": "dcf369e1-d9ff-4279-86e4-73c30ee77a47",
   "metadata": {},
   "source": [
    "- Excute mean square error and root mean squared error"
   ]
  },
  {
   "cell_type": "code",
   "execution_count": 13,
   "id": "9591d8b0-d22e-40d2-9ef2-a9a588037e24",
   "metadata": {},
   "outputs": [
    {
     "name": "stdout",
     "output_type": "stream",
     "text": [
      "Mean Squared Error: 2.0223251928745457e+30\n"
     ]
    }
   ],
   "source": [
    "linear_mse = mean_squared_error(y_test, linear_pred)\n",
    "print(f'Mean Squared Error: {linear_mse}')"
   ]
  },
  {
   "cell_type": "code",
   "execution_count": 14,
   "id": "3935ef55-7379-4c6a-8fbf-ee3e702e527a",
   "metadata": {},
   "outputs": [
    {
     "name": "stdout",
     "output_type": "stream",
     "text": [
      "Root mean Squared Error: 1422084805092349.5\n"
     ]
    }
   ],
   "source": [
    "linear_rmse = mean_squared_error(y_test, linear_pred, squared=False)\n",
    "print(f'Root mean Squared Error: {linear_rmse}')"
   ]
  },
  {
   "cell_type": "markdown",
   "id": "5605fb52-2c56-40b4-8c9d-44d590c6978f",
   "metadata": {},
   "source": [
    "### Random Forest Regression"
   ]
  },
  {
   "cell_type": "markdown",
   "id": "a5898347-42d7-4935-8520-eba8a57d36b4",
   "metadata": {},
   "source": [
    "####  Training model"
   ]
  },
  {
   "cell_type": "markdown",
   "id": "131758ec-01a1-4a2a-b6e1-8edb923e1e89",
   "metadata": {},
   "source": [
    "- Training a Random Forest Regression model on the `X_train` and `y_train`"
   ]
  },
  {
   "cell_type": "code",
   "execution_count": 15,
   "id": "9832ee80-7eea-436d-9720-305c5fefb2b1",
   "metadata": {},
   "outputs": [
    {
     "data": {
      "text/html": [
       "<style>#sk-container-id-3 {color: black;}#sk-container-id-3 pre{padding: 0;}#sk-container-id-3 div.sk-toggleable {background-color: white;}#sk-container-id-3 label.sk-toggleable__label {cursor: pointer;display: block;width: 100%;margin-bottom: 0;padding: 0.3em;box-sizing: border-box;text-align: center;}#sk-container-id-3 label.sk-toggleable__label-arrow:before {content: \"▸\";float: left;margin-right: 0.25em;color: #696969;}#sk-container-id-3 label.sk-toggleable__label-arrow:hover:before {color: black;}#sk-container-id-3 div.sk-estimator:hover label.sk-toggleable__label-arrow:before {color: black;}#sk-container-id-3 div.sk-toggleable__content {max-height: 0;max-width: 0;overflow: hidden;text-align: left;background-color: #f0f8ff;}#sk-container-id-3 div.sk-toggleable__content pre {margin: 0.2em;color: black;border-radius: 0.25em;background-color: #f0f8ff;}#sk-container-id-3 input.sk-toggleable__control:checked~div.sk-toggleable__content {max-height: 200px;max-width: 100%;overflow: auto;}#sk-container-id-3 input.sk-toggleable__control:checked~label.sk-toggleable__label-arrow:before {content: \"▾\";}#sk-container-id-3 div.sk-estimator input.sk-toggleable__control:checked~label.sk-toggleable__label {background-color: #d4ebff;}#sk-container-id-3 div.sk-label input.sk-toggleable__control:checked~label.sk-toggleable__label {background-color: #d4ebff;}#sk-container-id-3 input.sk-hidden--visually {border: 0;clip: rect(1px 1px 1px 1px);clip: rect(1px, 1px, 1px, 1px);height: 1px;margin: -1px;overflow: hidden;padding: 0;position: absolute;width: 1px;}#sk-container-id-3 div.sk-estimator {font-family: monospace;background-color: #f0f8ff;border: 1px dotted black;border-radius: 0.25em;box-sizing: border-box;margin-bottom: 0.5em;}#sk-container-id-3 div.sk-estimator:hover {background-color: #d4ebff;}#sk-container-id-3 div.sk-parallel-item::after {content: \"\";width: 100%;border-bottom: 1px solid gray;flex-grow: 1;}#sk-container-id-3 div.sk-label:hover label.sk-toggleable__label {background-color: #d4ebff;}#sk-container-id-3 div.sk-serial::before {content: \"\";position: absolute;border-left: 1px solid gray;box-sizing: border-box;top: 0;bottom: 0;left: 50%;z-index: 0;}#sk-container-id-3 div.sk-serial {display: flex;flex-direction: column;align-items: center;background-color: white;padding-right: 0.2em;padding-left: 0.2em;position: relative;}#sk-container-id-3 div.sk-item {position: relative;z-index: 1;}#sk-container-id-3 div.sk-parallel {display: flex;align-items: stretch;justify-content: center;background-color: white;position: relative;}#sk-container-id-3 div.sk-item::before, #sk-container-id-3 div.sk-parallel-item::before {content: \"\";position: absolute;border-left: 1px solid gray;box-sizing: border-box;top: 0;bottom: 0;left: 50%;z-index: -1;}#sk-container-id-3 div.sk-parallel-item {display: flex;flex-direction: column;z-index: 1;position: relative;background-color: white;}#sk-container-id-3 div.sk-parallel-item:first-child::after {align-self: flex-end;width: 50%;}#sk-container-id-3 div.sk-parallel-item:last-child::after {align-self: flex-start;width: 50%;}#sk-container-id-3 div.sk-parallel-item:only-child::after {width: 0;}#sk-container-id-3 div.sk-dashed-wrapped {border: 1px dashed gray;margin: 0 0.4em 0.5em 0.4em;box-sizing: border-box;padding-bottom: 0.4em;background-color: white;}#sk-container-id-3 div.sk-label label {font-family: monospace;font-weight: bold;display: inline-block;line-height: 1.2em;}#sk-container-id-3 div.sk-label-container {text-align: center;}#sk-container-id-3 div.sk-container {/* jupyter's `normalize.less` sets `[hidden] { display: none; }` but bootstrap.min.css set `[hidden] { display: none !important; }` so we also need the `!important` here to be able to override the default hidden behavior on the sphinx rendered scikit-learn.org. See: https://github.com/scikit-learn/scikit-learn/issues/21755 */display: inline-block !important;position: relative;}#sk-container-id-3 div.sk-text-repr-fallback {display: none;}</style><div id=\"sk-container-id-3\" class=\"sk-top-container\"><div class=\"sk-text-repr-fallback\"><pre>RandomForestRegressor()</pre><b>In a Jupyter environment, please rerun this cell to show the HTML representation or trust the notebook. <br />On GitHub, the HTML representation is unable to render, please try loading this page with nbviewer.org.</b></div><div class=\"sk-container\" hidden><div class=\"sk-item\"><div class=\"sk-estimator sk-toggleable\"><input class=\"sk-toggleable__control sk-hidden--visually\" id=\"sk-estimator-id-3\" type=\"checkbox\" checked><label for=\"sk-estimator-id-3\" class=\"sk-toggleable__label sk-toggleable__label-arrow\">RandomForestRegressor</label><div class=\"sk-toggleable__content\"><pre>RandomForestRegressor()</pre></div></div></div></div></div>"
      ],
      "text/plain": [
       "RandomForestRegressor()"
      ]
     },
     "execution_count": 15,
     "metadata": {},
     "output_type": "execute_result"
    }
   ],
   "source": [
    "rf_reg = RandomForestRegressor()\n",
    "rf_reg.fit(X_train, y_train)"
   ]
  },
  {
   "cell_type": "markdown",
   "id": "3707de9a-4f2b-4bbe-9536-51f8d8738814",
   "metadata": {},
   "source": [
    "- Predict `X_test`, store in `rf_pred`"
   ]
  },
  {
   "cell_type": "code",
   "execution_count": 16,
   "id": "2f0065a5-1898-45a3-b65c-7e8b2c14fc23",
   "metadata": {},
   "outputs": [],
   "source": [
    "rf_pred = rf_reg.predict(X_test)"
   ]
  },
  {
   "cell_type": "markdown",
   "id": "d3ced69e-3800-4cf3-802f-c7a6b85980e4",
   "metadata": {},
   "source": [
    "- Excute mean square error and root mean squared error"
   ]
  },
  {
   "cell_type": "code",
   "execution_count": 17,
   "id": "c4a8da8c-6f79-42f3-87dc-64528bc7eb0a",
   "metadata": {},
   "outputs": [
    {
     "name": "stdout",
     "output_type": "stream",
     "text": [
      "Mean Squared Error: 3998008240043.463\n"
     ]
    }
   ],
   "source": [
    "rf_mse = mean_squared_error(y_test, rf_pred)\n",
    "print(f'Mean Squared Error: {rf_mse}')"
   ]
  },
  {
   "cell_type": "code",
   "execution_count": 18,
   "id": "868564e2-7fb6-476a-b75b-9f143d00dd71",
   "metadata": {},
   "outputs": [
    {
     "name": "stdout",
     "output_type": "stream",
     "text": [
      "Root mean Squared Error: 1999501.99800937\n"
     ]
    }
   ],
   "source": [
    "rf_rmse = mean_squared_error(y_test, rf_pred, squared=False)\n",
    "print(f'Root mean Squared Error: {rf_rmse}')"
   ]
  },
  {
   "cell_type": "markdown",
   "id": "a5394e65-ad28-45ec-a7f5-03bf1955cfe4",
   "metadata": {},
   "source": [
    "## Model Evaluation"
   ]
  },
  {
   "cell_type": "markdown",
   "id": "7e741985-8893-4447-a167-831447b17a20",
   "metadata": {},
   "source": [
    "### Decision Tree Regression"
   ]
  },
  {
   "cell_type": "markdown",
   "id": "e451467b-575d-42f8-9c66-1d181cbe5edb",
   "metadata": {},
   "source": [
    "#### Cross-validation"
   ]
  },
  {
   "cell_type": "code",
   "execution_count": 19,
   "id": "c13fb5bb-72b6-47b7-be31-9ff4438017bf",
   "metadata": {},
   "outputs": [
    {
     "data": {
      "text/plain": [
       "array([-1.49516161e+12, -3.00424178e+12, -4.88880702e+12, -4.91233733e+12,\n",
       "       -3.78093770e+12])"
      ]
     },
     "execution_count": 19,
     "metadata": {},
     "output_type": "execute_result"
    }
   ],
   "source": [
    "cv = ShuffleSplit(n_splits=5, test_size=0.2, random_state=42)\n",
    "tree_scores = cross_val_score(my_tree, X_train, y_train, scoring='neg_mean_squared_error', cv = cv)\n",
    "tree_scores"
   ]
  },
  {
   "cell_type": "markdown",
   "id": "c103f6c3-ecf0-4727-92aa-2edce08a6b7e",
   "metadata": {},
   "source": [
    "#### Average Mean Squared Error"
   ]
  },
  {
   "cell_type": "code",
   "execution_count": 20,
   "id": "d369c260-ed44-4fb6-9139-db596ee8ec51",
   "metadata": {},
   "outputs": [
    {
     "name": "stdout",
     "output_type": "stream",
     "text": [
      "Mean Squared Error Scores: [1.49516161e+12 3.00424178e+12 4.88880702e+12 4.91233733e+12\n",
      " 3.78093770e+12]\n",
      "Average Mean Squared Error: 3616297088279.302\n"
     ]
    }
   ],
   "source": [
    "tree_mse_scores = -tree_scores\n",
    "print(f'Mean Squared Error Scores: {tree_mse_scores}')\n",
    "tree_avg_mse_scores = np.mean(tree_mse_scores)\n",
    "print(f'Average Mean Squared Error: {tree_avg_mse_scores}')"
   ]
  },
  {
   "cell_type": "markdown",
   "id": "37de1f23-b39d-4226-a233-7887f3950d03",
   "metadata": {},
   "source": [
    "#### Model Visualization"
   ]
  },
  {
   "cell_type": "code",
   "execution_count": 21,
   "id": "f4b3f307-55f2-4e17-b12e-ba2b27d0f185",
   "metadata": {},
   "outputs": [
    {
     "data": {
      "image/png": "[encoded data removed]",
      "text/plain": [
       "<Figure size 1000x1000 with 1 Axes>"
      ]
     },
     "metadata": {},
     "output_type": "display_data"
    }
   ],
   "source": [
    "fig = plt.figure(figsize=(10, 10))\n",
    "plt.scatter(y_test, y_pred, color='blue', label='Data points')\n",
    "plt.plot([min(y_test), max(y_test)], [min(y_pred), max(y_pred)], color='red', label='Diagonal line for reference')\n",
    "plt.plot()\n",
    "plt.xlabel('Actual Values')\n",
    "plt.ylabel('Predict Values')\n",
    "plt.title('Decision Tree Regression')\n",
    "plt.legend()\n",
    "plt.show()"
   ]
  },
  {
   "cell_type": "markdown",
   "id": "1c4158fc-9dc6-4a48-a1a1-0106c5e14014",
   "metadata": {},
   "source": [
    "### Linear Regression"
   ]
  },
  {
   "cell_type": "markdown",
   "id": "dbbb7d8a-da54-4f3b-8975-fcb95d9f5444",
   "metadata": {},
   "source": [
    "#### Cross-validation"
   ]
  },
  {
   "cell_type": "code",
   "execution_count": 22,
   "id": "6089f503-3427-499a-b4d6-99f208e92bb2",
   "metadata": {},
   "outputs": [
    {
     "data": {
      "text/plain": [
       "array([-2.02232519e+30, -1.01337360e+29, -5.02313506e+25, -3.12008237e+29,\n",
       "       -2.33380847e+29])"
      ]
     },
     "execution_count": 22,
     "metadata": {},
     "output_type": "execute_result"
    }
   ],
   "source": [
    "cv = ShuffleSplit(n_splits=5, test_size=0.2, random_state=42)\n",
    "linear_scores = cross_val_score(linear_reg, X, y, scoring='neg_mean_squared_error', cv=cv)\n",
    "linear_scores"
   ]
  },
  {
   "cell_type": "markdown",
   "id": "b3690f58-97ae-494a-aa89-fcae9dc042c7",
   "metadata": {},
   "source": [
    "#### Average Mean Squared Error"
   ]
  },
  {
   "cell_type": "code",
   "execution_count": 23,
   "id": "72d3f34c-071d-4338-b6d0-084c82b2172b",
   "metadata": {},
   "outputs": [
    {
     "name": "stdout",
     "output_type": "stream",
     "text": [
      "Mean Squared Error Scores: [2.02232519e+30 1.01337360e+29 5.02313506e+25 3.12008237e+29\n",
      " 2.33380847e+29]\n",
      "Average Mean Squared Error: 5.338203736841068e+29\n"
     ]
    }
   ],
   "source": [
    "linear_mse_scores = -linear_scores\n",
    "print(f'Mean Squared Error Scores: {linear_mse_scores}')\n",
    "linear_avg_mse_scores = np.mean(linear_mse_scores)\n",
    "print(f'Average Mean Squared Error: {linear_avg_mse_scores}')"
   ]
  },
  {
   "cell_type": "markdown",
   "id": "fa17667e-866b-4d8d-9127-f0444ed20a9a",
   "metadata": {},
   "source": [
    "#### Model Visualization"
   ]
  },
  {
   "cell_type": "code",
   "execution_count": 24,
   "id": "08a07a33-6ab2-402e-9c45-14e508f3fdf3",
   "metadata": {},
   "outputs": [
    {
     "data": {
      "image/png": "[encoded data removed]",
      "text/plain": [
       "<Figure size 1000x1000 with 1 Axes>"
      ]
     },
     "metadata": {},
     "output_type": "display_data"
    }
   ],
   "source": [
    "fig = plt.figure(figsize=(10, 10))\n",
    "plt.scatter(y_test, linear_pred, color='blue', label='Data points')\n",
    "plt.plot([min(y_test), max(y_test)], [min(linear_pred), max(linear_pred)], color='red', label='Diagonal line for reference')\n",
    "plt.xlabel('Actual Values')\n",
    "plt.ylabel('Predict Values')\n",
    "plt.title('Linear Regression')\n",
    "plt.legend()\n",
    "plt.show()"
   ]
  },
  {
   "cell_type": "markdown",
   "id": "e9e2fd26-91ce-4587-88ef-d1fef6c42045",
   "metadata": {},
   "source": [
    "### Random Forest Regression"
   ]
  },
  {
   "cell_type": "markdown",
   "id": "cd92b19e-b802-4823-8f46-43e17e0649f0",
   "metadata": {},
   "source": [
    "#### Cross-validation"
   ]
  },
  {
   "cell_type": "code",
   "execution_count": 25,
   "id": "28e8c918-e000-49f2-bf57-d977d33cfcc5",
   "metadata": {},
   "outputs": [
    {
     "data": {
      "text/plain": [
       "array([-5.23255116e+11, -9.50120448e+11, -2.21672301e+12, -2.35557937e+12,\n",
       "       -1.10303020e+12])"
      ]
     },
     "execution_count": 25,
     "metadata": {},
     "output_type": "execute_result"
    }
   ],
   "source": [
    "cv = ShuffleSplit(n_splits=5, test_size=0.2, random_state=42)\n",
    "rf_scores = cross_val_score(rf_reg, X_train, y_train, scoring='neg_mean_squared_error', cv = cv)\n",
    "rf_scores"
   ]
  },
  {
   "cell_type": "markdown",
   "id": "95dc015f-3723-4ea9-88a7-2ca0db1b1114",
   "metadata": {},
   "source": [
    "#### Average Mean Squared Error"
   ]
  },
  {
   "cell_type": "code",
   "execution_count": 26,
   "id": "8f478898-134b-4cfa-a097-2626c93ea9ad",
   "metadata": {},
   "outputs": [
    {
     "name": "stdout",
     "output_type": "stream",
     "text": [
      "Mean Squared Error Scores: [5.23255116e+11 9.50120448e+11 2.21672301e+12 2.35557937e+12\n",
      " 1.10303020e+12]\n",
      "Average Mean Squared Error: 1429741628030.773\n"
     ]
    }
   ],
   "source": [
    "rf_mse_scores = -rf_scores\n",
    "print(f'Mean Squared Error Scores: {rf_mse_scores}')\n",
    "rf_avg_mse_scores = np.mean(rf_mse_scores)\n",
    "print(f'Average Mean Squared Error: {rf_avg_mse_scores}')"
   ]
  },
  {
   "cell_type": "markdown",
   "id": "ab43c8ed-c66e-41e2-890f-1e807ecd71b9",
   "metadata": {},
   "source": [
    "#### Model Visualization"
   ]
  },
  {
   "cell_type": "code",
   "execution_count": 27,
   "id": "7e23a93c-0de4-43ea-a978-d6e37b2d4acd",
   "metadata": {},
   "outputs": [
    {
     "data": {
      "image/png": "[encoded data removed]",
      "text/plain": [
       "<Figure size 1000x1000 with 1 Axes>"
      ]
     },
     "metadata": {},
     "output_type": "display_data"
    }
   ],
   "source": [
    "fig = plt.figure(figsize=(10, 10))\n",
    "plt.scatter(y_test, rf_pred, color='blue', label='Data points')\n",
    "plt.plot([min(y_test), max(y_test)], [min(rf_pred), max(rf_pred)], color='red', label='Diagonal line for reference')\n",
    "plt.xlabel('Actual Values')\n",
    "plt.ylabel('Predict Values')\n",
    "plt.title('Random Forest Regression')\n",
    "plt.legend()\n",
    "plt.show()"
   ]
  },
  {
   "cell_type": "markdown",
   "id": "f3cf9823-581f-4374-b882-557b8c451de6",
   "metadata": {},
   "source": [
    "## Model Tuning with Hyperparameters"
   ]
  }
 ],
 "metadata": {
  "kernelspec": {
   "display_name": "Python 3 (ipykernel)",
   "language": "python",
   "name": "python3"
  },
  "language_info": {
   "codemirror_mode": {
    "name": "ipython",
    "version": 3
   },
   "file_extension": ".py",
   "mimetype": "text/x-python",
   "name": "python",
   "nbconvert_exporter": "python",
   "pygments_lexer": "ipython3",
   "version": "3.9.15"
  }
 },
 "nbformat": 4,
 "nbformat_minor": 5
}
